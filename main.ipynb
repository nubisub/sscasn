{
 "cells": [
  {
   "cell_type": "markdown",
   "metadata": {},
   "source": [
    "# Scrape SSCASN Data 2024"
   ]
  },
  {
   "cell_type": "code",
   "execution_count": null,
   "metadata": {},
   "outputs": [],
   "source": [
    "import requests\n",
    "import warnings\n",
    "import pandas as pd\n",
    "from concurrent.futures import ThreadPoolExecutor, as_completed\n",
    "from concurrent.futures import ThreadPoolExecutor\n",
    "from pymongo import MongoClient\n",
    "warnings.filterwarnings('ignore')\n",
    "mongo_client = None"
   ]
  },
  {
   "cell_type": "markdown",
   "metadata": {},
   "source": [
    "## Connect to Database"
   ]
  },
  {
   "cell_type": "markdown",
   "metadata": {},
   "source": [
    "Connect to local mongodb database"
   ]
  },
  {
   "cell_type": "code",
   "execution_count": null,
   "metadata": {},
   "outputs": [],
   "source": [
    "def get_mongo_client():\n",
    "    global mongo_client\n",
    "    if mongo_client is None:\n",
    "        mongo_client = MongoClient(\"mongodb://localhost:27017/\")\n",
    "    return mongo_client\n",
    "\n",
    "def get_database():\n",
    "    client = get_mongo_client()\n",
    "    return client[\"casn2024\"]\n",
    "def save_to_mongo(data_batch, collection_name):\n",
    "    try:\n",
    "        db = get_database()\n",
    "        collection = db[collection_name]\n",
    "        collection.insert_many(data_batch, ordered=False)\n",
    "        print(f\"Batch saved successfully, {len(data_batch)} records.\")\n",
    "    except Exception as e:\n",
    "        print(f\"Failed to save data: {e}\")\n",
    "        return None"
   ]
  },
  {
   "cell_type": "markdown",
   "metadata": {},
   "source": [
    "## Get And Save Pendidikan Data 2024"
   ]
  },
  {
   "cell_type": "markdown",
   "metadata": {},
   "source": [
    "Get all pendidikan data from sscasn 2024 and save it to local mongodb database, the pendidikan_list is from the sscasn website\n",
    "```json\n",
    "{\n",
    "  \"cepat_kode\": 3004000,\n",
    "  \"nama\": \"PERSAMAAN SLTA (PAKET C)\",\n",
    "  \"tingkat_pendidikan_id\": 15\n",
    "}\n",
    "```"
   ]
  },
  {
   "cell_type": "code",
   "execution_count": null,
   "metadata": {},
   "outputs": [],
   "source": [
    "def get_pendidikan(tingkat):\n",
    "    url = 'https://api-sscasn.bkn.go.id/2024/referensi/pendidikan'\n",
    "    params = {\n",
    "        'tingkat': tingkat,\n",
    "        'nama': 'null',\n",
    "        'limit': 2500\n",
    "    }\n",
    "\n",
    "    headers = {\n",
    "        'accept': 'application/json, text/plain, */*',\n",
    "        'accept-encoding': 'gzip, deflate, br, zstd',\n",
    "        'accept-language': 'en-US,en;q=0.9,id;q=0.8',\n",
    "        'connection': 'keep-alive',\n",
    "        'host': 'api-sscasn.bkn.go.id',\n",
    "        'origin': 'https://sscasn.bkn.go.id',\n",
    "        'referer': 'https://sscasn.bkn.go.id/',\n",
    "        'sec-ch-ua': '\"Chromium\";v=\"130\", \"Google Chrome\";v=\"130\", \"Not?A_Brand\";v=\"99\"',\n",
    "        'sec-ch-ua-mobile': '?0',\n",
    "        'sec-ch-ua-platform': '\"Windows\"',\n",
    "        'sec-fetch-dest': 'empty',\n",
    "        'sec-fetch-mode': 'cors',\n",
    "        'sec-fetch-site': 'same-site',\n",
    "        'user-agent': 'Mozilla/5.0 (Windows NT 10.0; Win64; x64) AppleWebKit/537.36 (KHTML, like Gecko) Chrome/130.0.0.0 Safari/537.36'\n",
    "    }\n",
    "\n",
    "    response = requests.get(url, headers=headers, params=params)\n",
    "\n",
    "    if response.status_code == 200:\n",
    "        data = response.json()\n",
    "        pendidikanData = data['data']['data']\n",
    "        return pendidikanData\n",
    "    else:\n",
    "        print(f\"Failed to retrieve data: {response.status_code}\")\n"
   ]
  },
  {
   "cell_type": "code",
   "execution_count": null,
   "metadata": {},
   "outputs": [],
   "source": [
    "def save_pendidikan(data):\n",
    "    try:\n",
    "        db = get_database()\n",
    "        collection = db[\"pendidikan\"]\n",
    "        collection.insert_many(data, ordered=False)\n",
    "    except Exception as e:\n",
    "        print(f\"Failed to save data: {e}\")"
   ]
  },
  {
   "cell_type": "code",
   "execution_count": null,
   "metadata": {},
   "outputs": [],
   "source": [
    "pendidikan_list = [{\"id\":\"05\",\"nama\":\"SD\"},{\"id\":\"10\",\"nama\":\"SLTP\"},{\"id\":\"15\",\"nama\":\"SLTA\"},{\"id\":\"17\",\"nama\":\"SMK/SLTA Kejuruan\"},{\"id\":\"18\",\"nama\":\"SLTA Keguruan\"},{\"id\":\"20\",\"nama\":\"Diploma I\"},{\"id\":\"25\",\"nama\":\"Diploma II\"},{\"id\":\"30\",\"nama\":\"Diploma III/Sarjana Muda\"},{\"id\":\"35\",\"nama\":\"Diploma IV\"},{\"id\":\"40\",\"nama\":\"S-1/Sarjana\"},{\"id\":\"45\",\"nama\":\"S-2\"},{\"id\":\"50\",\"nama\":\"S-3/Doktor\"}]"
   ]
  },
  {
   "cell_type": "code",
   "execution_count": null,
   "metadata": {},
   "outputs": [],
   "source": [
    "for pendidikan in pendidikan_list:\n",
    "    pendidikan_request = get_pendidikan(pendidikan['id'])\n",
    "    save_pendidikan(pendidikan_request)"
   ]
  },
  {
   "cell_type": "markdown",
   "metadata": {},
   "source": [
    "## Get And Save Formasi By Pendidikan Data 2024"
   ]
  },
  {
   "cell_type": "markdown",
   "metadata": {},
   "source": [
    "Recursively get all formasi by pendidikan data from sscasn 2024 and save it to local mongodb database. Recursive function is used to get all formasi by pendidikan data because the formasi data is paginated. To store in mongodb, make sure formasi_id is unique so no duplicate data is stored.\n",
    "```json\n",
    "{\n",
    "  \"formasi_id\": \"54732d49-9c3c-4441-8754-789190e90017\",\n",
    "  \"ins_nm\": \"Pemerintah Kota Palopo\",\n",
    "  \"jp_nama\": \"CPNS\",\n",
    "  \"formasi_nm\": \"UMUM\",\n",
    "  \"jabatan_nm\": \"PRANATA LABORATORIUM KESEHATAN AHLI PERTAMA\",\n",
    "  \"lokasi_nm\": \"Pemerintah Kota Palopo | Sekretariat Daerah | Dinas Kesehatan | UPT Laboratorium Kesehatan Daerah\",\n",
    "  \"jumlah_formasi\": 2,\n",
    "  \"disable\": 1,\n",
    "  \"gaji_min\": \"2785700\",\n",
    "  \"gaji_max\": \"4313870\",\n",
    "  \"jumlah_ms\": 0\n",
    "}\n",
    "```"
   ]
  },
  {
   "cell_type": "code",
   "execution_count": null,
   "metadata": {},
   "outputs": [],
   "source": [
    "def get_data(iteration, kode_pendidikan, offset):\n",
    "    try:\n",
    "        data = []\n",
    "        url = 'https://api-sscasn.bkn.go.id/2024/portal/spf'\n",
    "        params = {\n",
    "            'kode_ref_pend': kode_pendidikan,\n",
    "            'pengadaan_kd': '2',\n",
    "            'offset': offset,\n",
    "        }\n",
    "        response = requests.get(url, headers={'origin': 'https://sscasn.bkn.go.id'}, params=params)\n",
    "\n",
    "        total_data_in_page = response.json()['data']['page']['total']\n",
    "        if total_data_in_page == 10:\n",
    "            offset += 10\n",
    "            getData = get_data(iteration, kode_pendidikan, offset)\n",
    "            if getData:\n",
    "                data.extend(getData)  \n",
    "\n",
    "        dataFormasi = response.json()['data']['data']\n",
    "        for i in dataFormasi:\n",
    "            data.append(i)\n",
    "        return data\n",
    "    except Exception as e:\n",
    "        return None"
   ]
  },
  {
   "cell_type": "code",
   "execution_count": null,
   "metadata": {},
   "outputs": [],
   "source": [
    "def get_pendidikan_from_db():\n",
    "    db = get_database()\n",
    "    collection = db['pendidikan']\n",
    "    pendidikan = collection.find()\n",
    "    return pendidikan\n"
   ]
  },
  {
   "cell_type": "code",
   "execution_count": null,
   "metadata": {},
   "outputs": [],
   "source": [
    "df_pendidikan = pd.DataFrame(get_pendidikan_from_db())\n",
    "kode_pend_list = df_pendidikan['kode_pend'].tolist()\n",
    "batch_size = 1000\n",
    "\n",
    "with ThreadPoolExecutor(max_workers=10) as executor:\n",
    "    futures = []\n",
    "    for i, kode_pendidikan in enumerate(kode_pend_list):\n",
    "        futures.append(executor.submit(get_data, i + 1, str(kode_pendidikan), 0))\n",
    "    \n",
    "    batch_data = []\n",
    "    for future in as_completed(futures):\n",
    "        data = future.result()\n",
    "        if data:\n",
    "            batch_data.extend(data)\n",
    "            if len(batch_data) >= batch_size:\n",
    "                save_to_mongo(batch_data, 'formasi')\n",
    "                batch_data = []\n",
    "\n",
    "    if batch_data:\n",
    "        save_to_mongo(batch_data, 'formasi')"
   ]
  },
  {
   "cell_type": "markdown",
   "metadata": {},
   "source": [
    "## Get And Save Detail Formasi Data 2024"
   ]
  },
  {
   "cell_type": "markdown",
   "metadata": {},
   "source": [
    "After getting all formasi data, get the detail formasi data from sscasn 2024 and save it to local mongodb database.\n",
    "```json\n",
    "{\n",
    "  \"formasi_id\": \"724cb29f-9000-447e-bf55-fe253e9c6d21\",\n",
    "  \"mpi_id\": \"f14769953f5111efa54d0050568fed0f\",\n",
    "  \"instansi_id\": \"A5EB03E23D46F6A0E040640A040252AD\",\n",
    "  \"ins_kd\": \"3021\",\n",
    "  \"ins_nm\": \"Kementerian Pekerjaan Umum dan Perumahan Rakyat\",\n",
    "  \"pengadaan_kd\": \"2\",\n",
    "  \"jp_nama\": \"CPNS\",\n",
    "  \"formasi_nm\": \"UMUM\",\n",
    "  \"jabatan_kd\": \"JF0087286\",\n",
    "  \"jabatan_nm\": \"PENATA KELOLA PERUMAHAN AHLI PERTAMA\",\n",
    "  \"lokasi_nm\": \"KEMENTERIAN PEKERJAAN UMUM DAN PERUMAHAN RAKYAT | Direktorat Jenderal Perumahan | Balai Pelaksana Penyediaan Perumahan Kalimantan I | Subbagian Umum dan Tata Usaha\",\n",
    "  \"pendidikan_nm\": \"S-1 TEKNIK INFORMATIKA / S-1 TEKNIK ARSITEKTUR / S-1 EKONOMI / S-1 MANAJEMEN / S-1 TEKNIK SIPIL / S-1 ARSITEKTUR / S-1 DESAIN INTERIOR / S-1 HUKUM / S-1 ADMINISTRASI BISNIS / S-1 TEKNIK PLANOLOGI / S-1 EKONOMI PEMBANGUNAN / S-1 TEKNOLOGI INFORMASI / S-1 PLANOLOGI / S-1 ARSITEKTUR LANSKAP / S-1 ADMINISTRASI PUBLIK / S-1 ILMU PEMERINTAHAN / S-1 EKONOMI, KEUANGAN, DAN PERBANKAN / S-1 TEKNIK PERENCANAAN WILAYAH DAN KOTA / S-1 PERENCANAAN WILAYAH DAN KOTA\",\n",
    "  \"jumlah_formasi\": 3,\n",
    "  \"DISABLE\": 1,\n",
    "  \"group_tk_pendidikan_id\": \"\",\n",
    "  \"kode_ref_pend\": \"5101087 / 5101345 / 5101775 / 5102286 / 5109100 / 5109751 / 5119036 / 5123000 / 5157011 / 5190033 / 5190061 / 5190068 / 5191078 / 5193464 / 5210315 / 5210338 / 5102812 / 5109167 / 5109169\",\n",
    "  \"job_desc\": \"1. mengidentifikasi kebutuhan pengaturan bidang Penatakelolaan Perumahan tingkat kabupaten/kota;\",\n",
    "  \"keahlian\": \"Mengoperasikan komputer\",\n",
    "  \"gaji_min\": \"9400000\",\n",
    "  \"gaji_max\": \"10000000\",\n",
    "  \"link_web_instansi\": \"https://pu.go.id/pengumuman\",\n",
    "  \"call_center_instansi\": \"Telepon 0818-0312-1945 / 0819-0312-1945 / Email : seleksi.asn@pu.go.id\",\n",
    "  \"medsos_instansi\": \"https://www.instagram.com/kemenpupr?igsh=MWttazB6ZTNibGx4dg==\",\n",
    "  \"helpdesk_instansi\": \"seleksi.asn@pu.go.id\",\n",
    "  \"syarat_admin\": [\n",
    "    {\n",
    "      \"syarat\": \"Sertifikat tes kemampuan Bahasa Inggris Asli yang diterbitkan paling lama tahun 2022, dari : \\r\\na. ETS (Educational Testing Service) berupa : TOEFL ITP(PBT) skor minimal 450/TOEFL CBT skor minimal 131/TOEFL IBT skor minimal 45/ TOEIC skor minimal 440; atau\\r\\nb. IELTS skor minimal 5; atau\\r\\nc. Sertifikasi dengan standar penilaian lain seperti CEFR ,EF SET, English Proficiency Test, TOEFL Prediction yang diterbitkan PTN/PTS/Lembaga Kursus Swasta dengan skor setara dengan skor pada poin a dan b.\",\n",
    "      \"is_mandatory\": \"\\u0001\"\n",
    "    },\n",
    "    {\n",
    "      \"syarat\": \"Pas Foto terbaru, sekurang-kurangnya menggunakan kemeja dengan warna latar berwarna merah\",\n",
    "      \"is_mandatory\": \"\\u0001\"\n",
    "    },\n",
    "    {\n",
    "      \"syarat\": \"KTP asli/Surat Keterangan asli Pengganti KTP dari Dukcapil/Surat Keterangan asli Perekaman Data E-KTP\",\n",
    "      \"is_mandatory\": \"\\u0001\"\n",
    "    },\n",
    "    {\n",
    "      \"syarat\": \"Surat Pernyataan Asli yang telah ditandatangani serta dibubuhi e-materai Rp. 10.000,-  sesuai format pada pengumumum Seleksi Pengadaan CPNS Kementerian PUPR Tahun 2024\",\n",
    "      \"is_mandatory\": \"\\u0001\"\n",
    "    },\n",
    "    {\n",
    "      \"syarat\": \"Surat Lamaran asli yang ditujukan kepada Menteri PUPR dan sudah ditandatangani dengan tinta hitam oleh pelamar serta dibubuhi e-materai Rp. 10.000 sesuai format pada pengumumum Seleksi Pengadaan CPNS Kementerian PUPR Tahun 2024\",\n",
    "      \"is_mandatory\": \"\\u0001\"\n",
    "    },\n",
    "    {\n",
    "      \"syarat\": \"Ijazah asli sesuai yang dipersyaratkan, \\r\\n1) Khusus bagi pelamar lulusan Perguruan Tinggi luar negeri wajib menyertakan hasil pindai (scan) Surat Penyetaraan Ijazah asli;\\r\\n2) Khusus bagi pelamar kebutuhan jabatan Psikolog Klinis Ahli Pertama, wajib menyertakan hasil pindai (scan) ijazah asli Sarjana (S-1) dan Profesi.\",\n",
    "      \"is_mandatory\": \"\\u0001\"\n",
    "    },\n",
    "    {\n",
    "      \"syarat\": \"Transkrip/daftar nilai asli, \\r\\n1)Khusus bagi lulusan Perguruan Tinggi luar negeri yang melamar kebutuhan khusus Putra/Putri Lulusan Terbaik (Cum Laude) menyertakan hasil pindai (scan) surat keterangan yang menyatakan predikat kelulusannya setara “Dengan Pujian”/Cumlaude dari Kemendikburistek.\\r\\n2) khusus bagi pelamar kebutuhan jabatan Psikolog Klinis Ahli Pertama, wajib menyertakan hasil pindai (scan) transkrip nilai asli Sarjana (S-1) dan Profesi.\",\n",
    "      \"is_mandatory\": \"\\u0001\"\n",
    "    },\n",
    "    {\n",
    "      \"syarat\": \"Sertifikat akreditasi program studi dan/atau perguruan tinggi atau hasil tangkapan layar (screenshot) pangkalan data pendidikan tinggi (PDDIKTI) atau pangkalan data Badan Akreditasi Nasional Perguruan Tinggi (BAN-PT) yang menunjukkan akreditasi program studi dan/atau perguruan tinggi pada saat kelulusan (sesuai tanggal kelulusan pada ijazah) yang sesuai dengan syarat program studi pada jabatan yang dilamar.\",\n",
    "      \"is_mandatory\": \"\\u0001\"\n",
    "    }\n",
    "  ],\n",
    "  \"update_time\": \"2024-11-05 06:00:00\",\n",
    "  \"jenis_formasi_id\": \"1\",\n",
    "  \"jumlah_ms\": 3\n",
    "}\n",
    "``` "
   ]
  },
  {
   "cell_type": "code",
   "execution_count": null,
   "metadata": {},
   "outputs": [],
   "source": [
    "def get_data_formasi(iteration, formasi_id):\n",
    "    try:\n",
    "        url = 'https://api-sscasn.bkn.go.id/2024/portal/spf/' + str(formasi_id)\n",
    "        response = requests.get(url, headers={'origin': 'https://sscasn.bkn.go.id'})\n",
    "        dataFormasi = response.json()['data']\n",
    "        return dataFormasi\n",
    "    except Exception as e:\n",
    "        print('Error: ', e, formasi_id)\n",
    "        return None"
   ]
  },
  {
   "cell_type": "code",
   "execution_count": null,
   "metadata": {},
   "outputs": [],
   "source": [
    "def getIdFormasi():\n",
    "    db = get_database()\n",
    "    collection = db['formasi_id']\n",
    "    formasi = collection.find()\n",
    "    return formasi"
   ]
  },
  {
   "cell_type": "code",
   "execution_count": null,
   "metadata": {},
   "outputs": [],
   "source": [
    "id_formasi = pd.DataFrame(getIdFormasi())\n",
    "id_formasi_list = id_formasi['formasi_id'].tolist()\n",
    "batch_size = 1000\n",
    "\n",
    "with ThreadPoolExecutor(max_workers=10) as executor:\n",
    "    futures = []\n",
    "    for i, formasi_id in enumerate(id_formasi_list):\n",
    "        futures.append(executor.submit(get_data_formasi, i + 1, str(formasi_id)))\n",
    "    \n",
    "    batch_data = []\n",
    "    for future in as_completed(futures):\n",
    "        data = future.result()\n",
    "        if data:\n",
    "            batch_data.append(data)\n",
    "            if len(batch_data) >= batch_size:\n",
    "                save_to_mongo(batch_data, 'formasi_detail')\n",
    "                batch_data = []\n",
    "\n",
    "    if batch_data:\n",
    "        save_to_mongo(batch_data, 'formasi_detail')"
   ]
  }
 ],
 "metadata": {
  "kernelspec": {
   "display_name": "Python 3",
   "language": "python",
   "name": "python3"
  },
  "language_info": {
   "codemirror_mode": {
    "name": "ipython",
    "version": 3
   },
   "file_extension": ".py",
   "mimetype": "text/x-python",
   "name": "python",
   "nbconvert_exporter": "python",
   "pygments_lexer": "ipython3",
   "version": "3.11.1"
  }
 },
 "nbformat": 4,
 "nbformat_minor": 2
}
